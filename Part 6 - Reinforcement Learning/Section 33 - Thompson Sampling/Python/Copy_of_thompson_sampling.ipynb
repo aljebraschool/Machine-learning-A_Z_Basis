{
  "nbformat": 4,
  "nbformat_minor": 0,
  "metadata": {
    "colab": {
      "provenance": [],
      "include_colab_link": true
    },
    "kernelspec": {
      "name": "python3",
      "display_name": "Python 3"
    }
  },
  "cells": [
    {
      "cell_type": "markdown",
      "metadata": {
        "id": "view-in-github",
        "colab_type": "text"
      },
      "source": [
        "<a href=\"https://colab.research.google.com/github/aljebraschool/Machine_Learning_A_Z_Basic/blob/main/Copy_of_thompson_sampling.ipynb\" target=\"_parent\"><img src=\"https://colab.research.google.com/assets/colab-badge.svg\" alt=\"Open In Colab\"/></a>"
      ]
    },
    {
      "cell_type": "markdown",
      "metadata": {
        "id": "vPKTIRAtx232"
      },
      "source": [
        "# Thompson Sampling"
      ]
    },
    {
      "cell_type": "markdown",
      "metadata": {
        "id": "PqPv9zpAx-EE"
      },
      "source": [
        "## Importing the libraries"
      ]
    },
    {
      "cell_type": "code",
      "metadata": {
        "id": "lozuE-Fhx_QB"
      },
      "source": [
        "import numpy as np\n",
        "import matplotlib.pyplot as plt\n",
        "import pandas as pd"
      ],
      "execution_count": null,
      "outputs": []
    },
    {
      "cell_type": "markdown",
      "metadata": {
        "id": "iqpVk5HhyGmO"
      },
      "source": [
        "## Importing the dataset"
      ]
    },
    {
      "cell_type": "code",
      "metadata": {
        "id": "kY4zzW4hyNfA"
      },
      "source": [
        "dataset = pd.read_csv('Ads_CTR_Optimisation.csv')"
      ],
      "execution_count": null,
      "outputs": []
    },
    {
      "cell_type": "markdown",
      "metadata": {
        "id": "WqoXeWOYyQhB"
      },
      "source": [
        "## Implementing Thompson Sampling"
      ]
    },
    {
      "cell_type": "code",
      "source": [
        "import random\n",
        "NUMBER_OF_USER = 500\n",
        "NUMBER_OF_ADS = 10\n",
        "list_of_ads_selected = []\n",
        "\n",
        "number_of_times_ads_got_reward_one = [0] * NUMBER_OF_ADS\n",
        "number_of_times_ads_got_reward_zero = [0] * NUMBER_OF_ADS\n",
        "total_reward = 0\n",
        "\n",
        "for i in range(NUMBER_OF_USER):\n",
        "  ads = 0\n",
        "  max_random = -1\n",
        "  for j in range(NUMBER_OF_ADS):\n",
        "    random_beta = random.betavariate(number_of_times_ads_got_reward_one[j]+1, number_of_times_ads_got_reward_zero[j] + 1)\n",
        "\n",
        "    if random_beta > max_random:\n",
        "      max_random = random_beta\n",
        "      ads = j\n",
        "\n",
        "  reward = dataset.values[i, ads]\n",
        "  list_of_ads_selected.append(ads)\n",
        "\n",
        "  if reward == 1:\n",
        "    number_of_times_ads_got_reward_one[ads] += 1\n",
        "  else:\n",
        "    number_of_times_ads_got_reward_zero[ads] += 1\n",
        "\n",
        "  total_reward += reward\n"
      ],
      "metadata": {
        "id": "e_XZfOEjC6kT"
      },
      "execution_count": null,
      "outputs": []
    },
    {
      "cell_type": "markdown",
      "metadata": {
        "id": "tweWsgTHyXhv"
      },
      "source": [
        "## Visualising the results - Histogram"
      ]
    },
    {
      "cell_type": "code",
      "metadata": {
        "id": "k8DJmN06yak3",
        "outputId": "448aefe5-794d-447e-c677-7b15f22b157a",
        "colab": {
          "base_uri": "https://localhost:8080/",
          "height": 472
        }
      },
      "source": [
        "plt.hist(list_of_ads_selected)\n",
        "plt.title('Histogram of ads selections')\n",
        "plt.xlabel('Ads')\n",
        "plt.ylabel('Number of times each ad was selected')\n",
        "plt.show()"
      ],
      "execution_count": null,
      "outputs": [
        {
          "output_type": "display_data",
          "data": {
            "text/plain": [
              "<Figure size 640x480 with 1 Axes>"
            ],
            "image/png": "[encoded data removed]"
          },
          "metadata": {}
        }
      ]
    },
    {
      "cell_type": "code",
      "source": [],
      "metadata": {
        "id": "KyMVbhKeNDCb"
      },
      "execution_count": null,
      "outputs": []
    }
  ]
}